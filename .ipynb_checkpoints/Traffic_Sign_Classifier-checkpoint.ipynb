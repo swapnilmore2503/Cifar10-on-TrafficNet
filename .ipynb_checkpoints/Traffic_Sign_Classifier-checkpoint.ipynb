{
 "cells": [
  {
   "cell_type": "markdown",
   "metadata": {},
   "source": [
    "# Self-Driving Car Engineer Nanodegree\n",
    "\n",
    "## Deep Learning\n",
    "\n",
    "## Project: Build a Cifar10 Classifier\n",
    "\n",
    "In this notebook, a template is provided for you to implement your functionality in stages, which is required to successfully complete this project. If additional code is required that cannot be included in the notebook, be sure that the Python code is successfully imported and included in your submission if necessary. \n",
    "\n",
    "> **Note**: Once you have completed all of the code implementations, you need to finalize your work by exporting the iPython Notebook as an HTML document. Before exporting the notebook to html, all of the code cells need to have been run so that reviewers can see the final implementation and output. You can then export the notebook by using the menu above and navigating to  \\n\",\n",
    "    \"**File -> Download as -> HTML (.html)**. Include the finished document along with this notebook as your submission. \n",
    "\n",
    "In addition to implementing code, there is a writeup to complete. The writeup should be completed in a separate file, which can be either a markdown file or a pdf document. There is a [write up template](https://github.com/udacity/CarND-Traffic-Sign-Classifier-Project/blob/master/writeup_template.md) that can be used to guide the writing process. Completing the code template and writeup template will cover all of the [rubric points](https://review.udacity.com/#!/rubrics/481/view) for this project.\n",
    "\n",
    "The [rubric](https://review.udacity.com/#!/rubrics/481/view) contains \"Stand Out Suggestions\" for enhancing the project beyond the minimum requirements. The stand out suggestions are optional. If you decide to pursue the \"stand out suggestions\", you can include the code in this Ipython notebook and also discuss the results in the writeup file.\n",
    "\n",
    "\n",
    ">**Note:** Code and Markdown cells can be executed using the **Shift + Enter** keyboard shortcut. In addition, Markdown cells can be edited by typically double-clicking the cell to enter edit mode."
   ]
  },
  {
   "cell_type": "markdown",
   "metadata": {},
   "source": [
    "---\n",
    "## Step 0: Load The Data"
   ]
  },
  {
   "cell_type": "code",
   "execution_count": 1,
   "metadata": {
    "collapsed": true
   },
   "outputs": [],
   "source": [
    "# Load pickled data\n",
    "import pickle\n",
    "import cv2\n",
    "import csv\n",
    "import time\n",
    "import glob\n",
    "import numpy as np\n",
    "import matplotlib.pyplot as plt\n",
    "from sklearn.utils import shuffle\n",
    "import tensorflow as tf\n",
    "from tensorflow.contrib.layers import flatten\n",
    "from skimage import *\n",
    "import gc\n",
    "import math\n",
    "%matplotlib inline\n",
    "\n",
    "\n"
   ]
  },
  {
   "cell_type": "code",
   "execution_count": 2,
   "metadata": {},
   "outputs": [
    {
     "name": "stderr",
     "output_type": "stream",
     "text": [
      "Using TensorFlow backend.\n"
     ]
    }
   ],
   "source": [
    "# TODO: Fill this in based on where you saved the training and testing data\n",
    "from keras.datasets import cifar10\n",
    "(X_train, y_train), (X_test, y_test) = cifar10.load_data()\n",
    "y_train = y_train.reshape(-1)\n",
    "y_test = y_test.reshape(-1)"
   ]
  },
  {
   "cell_type": "code",
   "execution_count": 3,
   "metadata": {
    "collapsed": true
   },
   "outputs": [],
   "source": [
    "from sklearn.model_selection import train_test_split\n",
    "X_train, X_valid, y_train, y_valid = train_test_split(X_train, y_train, test_size = 0.3)"
   ]
  },
  {
   "cell_type": "markdown",
   "metadata": {},
   "source": [
    "---\n",
    "\n",
    "## Step 1: Dataset Summary & Exploration\n",
    "\n",
    "The pickled data is a dictionary with 4 key/value pairs:\n",
    "\n",
    "- `'features'` is a 4D array containing raw pixel data of the traffic sign images, (num examples, width, height, channels).\n",
    "- `'labels'` is a 1D array containing the label/class id of the traffic sign. The file `signnames.csv` contains id -> name mappings for each id.\n",
    "- `'sizes'` is a list containing tuples, (width, height) representing the original width and height the image.\n",
    "- `'coords'` is a list containing tuples, (x1, y1, x2, y2) representing coordinates of a bounding box around the sign in the image. **THESE COORDINATES ASSUME THE ORIGINAL IMAGE. THE PICKLED DATA CONTAINS RESIZED VERSIONS (32 by 32) OF THESE IMAGES**\n",
    "\n",
    "Complete the basic data summary below. Use python, numpy and/or pandas methods to calculate the data summary rather than hard coding the results. For example, the [pandas shape method](http://pandas.pydata.org/pandas-docs/stable/generated/pandas.DataFrame.shape.html) might be useful for calculating some of the summary results. "
   ]
  },
  {
   "cell_type": "markdown",
   "metadata": {},
   "source": [
    "### Provide a Basic Summary of the Data Set Using Python, Numpy and/or Pandas"
   ]
  },
  {
   "cell_type": "code",
   "execution_count": 4,
   "metadata": {},
   "outputs": [
    {
     "name": "stdout",
     "output_type": "stream",
     "text": [
      "Number of training examples = 35000\n",
      "Number of validation examples = 15000\n",
      "Number of testing examples = 10000\n",
      "Image data shape = (32, 32, 3)\n",
      "Number of classes = 10\n"
     ]
    }
   ],
   "source": [
    "### Replace each question mark with the appropriate value. \n",
    "### Use python, pandas or numpy methods rather than hard coding the results\n",
    "import numpy as np\n",
    "\n",
    "# TODO: Number of training examples\n",
    "n_train = len(X_train)\n",
    "\n",
    "# TODO: Number of validation examples\n",
    "n_valid = len(X_valid)\n",
    "\n",
    "# TODO: Number of testing examples.\n",
    "n_test = len(X_test)\n",
    "\n",
    "# TODO: What's the shape of an traffic sign image?\n",
    "image_shape = X_train[0].shape\n",
    "\n",
    "# TODO: How many unique classes/labels there are in the dataset.\n",
    "n_classes = len(np.unique(y_train))\n",
    "\n",
    "image_size = X_train.shape[1]\n",
    "\n",
    "print(\"Number of training examples =\", n_train)\n",
    "print(\"Number of validation examples =\", n_valid)\n",
    "print(\"Number of testing examples =\", n_test)\n",
    "print(\"Image data shape =\", image_shape)\n",
    "print(\"Number of classes =\", n_classes)"
   ]
  },
  {
   "cell_type": "markdown",
   "metadata": {},
   "source": [
    "### Include an exploratory visualization of the dataset"
   ]
  },
  {
   "cell_type": "markdown",
   "metadata": {},
   "source": [
    "Visualize the German Traffic Signs Dataset using the pickled file(s). This is open ended, suggestions include: plotting traffic sign images, plotting the count of each sign, etc. \n",
    "\n",
    "The [Matplotlib](http://matplotlib.org/) [examples](http://matplotlib.org/examples/index.html) and [gallery](http://matplotlib.org/gallery.html) pages are a great resource for doing visualizations in Python.\n",
    "\n",
    "**NOTE:** It's recommended you start with something simple first. If you wish to do more, come back to it after you've completed the rest of the sections. It can be interesting to look at the distribution of classes in the training, validation and test set. Is the distribution the same? Are there more examples of some classes than others?"
   ]
  },
  {
   "cell_type": "code",
   "execution_count": 5,
   "metadata": {},
   "outputs": [
    {
     "data": {
      "text/plain": [
       "<matplotlib.text.Text at 0x7fd757ab0048>"
      ]
     },
     "execution_count": 5,
     "metadata": {},
     "output_type": "execute_result"
    },
    {
     "data": {
      "image/png": "[encoded data removed]",
      "text/plain": [
       "<matplotlib.figure.Figure at 0x7fd74f822ef0>"
      ]
     },
     "metadata": {},
     "output_type": "display_data"
    },
    {
     "data": {
      "image/png": "[encoded data removed]",
      "text/plain": [
       "<matplotlib.figure.Figure at 0x7fd757b3e6d8>"
      ]
     },
     "metadata": {},
     "output_type": "display_data"
    }
   ],
   "source": [
    "### Data exploration visualization code goes here.\n",
    "### Feel free to use as many code cells as needed.\n",
    "import matplotlib.pyplot as plt\n",
    "# Visualizations will be shown in the notebook.\n",
    "%matplotlib inline\n",
    "i = np.random.randint(0, len(X_train))\n",
    "j = np.random.randint(0, len(X_valid))\n",
    "k = np.random.randint(0, len(X_test))\n",
    "\n",
    "plt.figure(figsize = (6,2))\n",
    "plt.subplot(1,3,1)\n",
    "plt.imshow(X_train[i])\n",
    "plt.title(y_train[i])\n",
    "\n",
    "plt.subplot(1,3,2)\n",
    "plt.imshow(X_valid[j])\n",
    "plt.title(y_valid[j])\n",
    "\n",
    "plt.subplot(1,3,3)\n",
    "plt.imshow(X_test[k])\n",
    "plt.title(y_test[k])\n",
    "\n",
    "unique1, counts1 = np.unique(y_train, return_counts = True)\n",
    "unique2, counts2 = np.unique(y_valid, return_counts = True)\n",
    "unique3, counts3 = np.unique(y_test, return_counts = True)\n",
    "\n",
    "plt.figure(figsize = (12, 18))\n",
    "plt.subplot(3, 1, 1)\n",
    "plt.bar(unique1, counts1)\n",
    "plt.title(\"Training Set Distribution\")\n",
    "plt.xlabel(\"Feature\")\n",
    "plt.ylabel(\"Count\")\n",
    "\n",
    "plt.subplot(3, 1, 2)\n",
    "plt.bar(unique2, counts2)\n",
    "plt.title(\"Validation Set Distribution\")\n",
    "plt.xlabel(\"Feature\")\n",
    "plt.ylabel(\"Count\")\n",
    "\n",
    "plt.subplot(3, 1, 3)\n",
    "plt.bar(unique3, counts3)\n",
    "plt.title(\"Test Set Distribution\")\n",
    "plt.xlabel(\"Feature\")\n",
    "plt.ylabel(\"Count\")"
   ]
  },
  {
   "cell_type": "code",
   "execution_count": 6,
   "metadata": {},
   "outputs": [
    {
     "data": {
      "image/png": "[encoded data removed]",
      "text/plain": [
       "<matplotlib.figure.Figure at 0x7fd757785748>"
      ]
     },
     "metadata": {},
     "output_type": "display_data"
    }
   ],
   "source": [
    "# Visualize an image of each feature out of the 43\n",
    "plt.figure(figsize=(16, 33))\n",
    "for i in range(0, n_classes):\n",
    "    plt.subplot(11, 4, i+1)\n",
    "    x_selected = X_train[y_train == i]\n",
    "    plt.imshow(x_selected[100, :, :, :]) #draw the first image of each class\n",
    "    plt.title(i)\n",
    "    plt.axis('off')\n",
    "plt.show()"
   ]
  },
  {
   "cell_type": "markdown",
   "metadata": {},
   "source": [
    "----\n",
    "\n",
    "## Step 2: Design and Test a Model Architecture\n",
    "\n",
    "Design and implement a deep learning model that learns to recognize traffic signs. Train and test your model on the [German Traffic Sign Dataset](http://benchmark.ini.rub.de/?section=gtsrb&subsection=dataset).\n",
    "\n",
    "The LeNet-5 implementation shown in the [classroom](https://classroom.udacity.com/nanodegrees/nd013/parts/fbf77062-5703-404e-b60c-95b78b2f3f9e/modules/6df7ae49-c61c-4bb2-a23e-6527e69209ec/lessons/601ae704-1035-4287-8b11-e2c2716217ad/concepts/d4aca031-508f-4e0b-b493-e7b706120f81) at the end of the CNN lesson is a solid starting point. You'll have to change the number of classes and possibly the preprocessing, but aside from that it's plug and play! \n",
    "\n",
    "With the LeNet-5 solution from the lecture, you should expect a validation set accuracy of about 0.89. To meet specifications, the validation set accuracy will need to be at least 0.93. It is possible to get an even higher accuracy, but 0.93 is the minimum for a successful project submission. \n",
    "\n",
    "There are various aspects to consider when thinking about this problem:\n",
    "\n",
    "- Neural network architecture (is the network over or underfitting?)\n",
    "- Play around preprocessing techniques (normalization, rgb to grayscale, etc)\n",
    "- Number of examples per label (some have more than others).\n",
    "- Generate fake data.\n",
    "\n",
    "Here is an example of a [published baseline model on this problem](http://yann.lecun.com/exdb/publis/pdf/sermanet-ijcnn-11.pdf). It's not required to be familiar with the approach used in the paper but, it's good practice to try to read papers like these."
   ]
  },
  {
   "cell_type": "markdown",
   "metadata": {},
   "source": [
    "### Data Augmentation"
   ]
  },
  {
   "cell_type": "code",
   "execution_count": 7,
   "metadata": {
    "collapsed": true
   },
   "outputs": [],
   "source": [
    "# Functions to augment data\n",
    "\n",
    "# Randomly Translate the image\n",
    "def translate(img, xlimit = 8, ylimit = 8):\n",
    "    rows, cols, ch = img.shape\n",
    "    tr_x = xlimit*np.random.uniform() - xlimit/2\n",
    "    tr_y = ylimit*np.random.uniform() - ylimit/2\n",
    "    Trans_M = np.float32([[1,0,tr_x],[0,1,tr_y]])\n",
    "    return cv2.warpAffine(img,Trans_M,(cols,rows))\n",
    "\n",
    "# Add random rotation to the image\n",
    "def rotate(img, a_limit = 20):\n",
    "    rows, cols, ch = img.shape\n",
    "    a_rot = np.random.uniform(a_limit) - a_limit/2\n",
    "    Rot_M = cv2.getRotationMatrix2D((cols/2,rows/2),a_rot,1)\n",
    "    return cv2.warpAffine(img,Rot_M,(cols,rows))\n",
    "\n",
    "# Randomly Warp the image\n",
    "def shear(img, shear_lim = 2):\n",
    "    rows, cols, ch = img.shape\n",
    "    poly1 = np.float32([[5,5],[20,5],[5,20]])\n",
    "    \n",
    "    vert1 = 5 + np.random.uniform()*shear_lim - shear_lim/2\n",
    "    vert2 = 20 + np.random.uniform()*shear_lim - shear_lim/2\n",
    "    \n",
    "    poly2 = np.float32([[vert1,5],[vert2,vert1],[5,vert2]])\n",
    "    \n",
    "    shear_M = cv2.getAffineTransform(poly1, poly2)\n",
    "    \n",
    "    return cv2.warpAffine(img,shear_M,(cols,rows))\n",
    "\n",
    "#Randomly change the image perspective\n",
    "def perspective(img, pers_limit = 8):\n",
    "    rows, cols, ch = img.shape\n",
    "    poly1 = np.float32([[5,8], [5,24], [27,8], [27,24]])\n",
    "    \n",
    "    pnt1 = 8 + np.random.uniform()*pers_limit - pers_limit/2\n",
    "    pnt2 = 24 + np.random.uniform()*pers_limit - pers_limit/2\n",
    "    \n",
    "    poly2 = np.float32([[5,8], [5, 24], [27,pnt1], [27, pnt2]])\n",
    "    \n",
    "    pers_M = cv2.getPerspectiveTransform(poly1, poly2)\n",
    "    \n",
    "    return cv2.warpPerspective(img,pers_M,(cols,rows))\n",
    "\n",
    "# Add random brightness to the image\n",
    "def brightness(img):\n",
    "    img1 = cv2.cvtColor(img, cv2.COLOR_RGB2HSV)\n",
    "    random_bright = 0.9 + np.random.uniform()\n",
    "    img1[:,:,2] = img[:,:,2]*random_bright\n",
    "    img1 = cv2.cvtColor(img1,cv2.COLOR_HSV2RGB)\n",
    "    return img1\n",
    "\n",
    "# Change the contrast of the image randomly\n",
    "def contrast(img):\n",
    "    alpha = 1.1\n",
    "    beta = 127.0 * (1.0 - alpha)\n",
    "    \n",
    "    img1 = cv2.multiply(img, np.array([alpha]))\n",
    "    img1 = cv2.add(img1, np.array([beta]))\n",
    "    \n",
    "    return img1\n",
    "\n",
    "# Sharpen Image\n",
    "def sharp(img):\n",
    "    gb = cv2.GaussianBlur(img, (3,3), 1.0)\n",
    "    return cv2.addWeighted(img, 2.0, gb, -1.0, 0)\n",
    "\n",
    "# Add random shadow or shade to simulate different light conditions\n",
    "def shadow(img):\n",
    "    y_t = 32*np.random.uniform()\n",
    "    x_t = 0\n",
    "    x_b = 32\n",
    "    y_b = 32*np.random.uniform()\n",
    "    \n",
    "    img_hls = cv2.cvtColor(img,cv2.COLOR_RGB2HLS)\n",
    "    shadow_mask = 0*img_hls[:,:,1]\n",
    "    \n",
    "    X_mesh = np.mgrid[0:img.shape[0],0:img.shape[1]][0]\n",
    "    Y_mesh = np.mgrid[0:img.shape[0],0:img.shape[1]][1]\n",
    "    \n",
    "    shadow_mask[((X_mesh - x_t)*(y_b - y_t) - (x_b - x_t) * (Y_mesh - y_t) >= 0)] = 1\n",
    "   \n",
    "    if np.random.randint(2)==1:\n",
    "        random_light = 0.55\n",
    "        cond1 = shadow_mask==1\n",
    "        cond0 = shadow_mask==0\n",
    "        \n",
    "        if np.random.randint(2)==1:\n",
    "            img_hls[:,:,1][cond1] = img_hls[:,:,1][cond1] * random_light\n",
    "        else:\n",
    "            img_hls[:,:,1][cond0] = img_hls[:,:,1][cond0] * random_light    \n",
    "    \n",
    "    img = cv2.cvtColor(img_hls,cv2.COLOR_HLS2RGB)\n",
    "    return img\n",
    "\n",
    "def Histogram_Eq(img):\n",
    "    img1 = img.copy()\n",
    "    img1[:, :, 0] = cv2.equalizeHist(img[:, :, 0])\n",
    "    img1[:, :, 1] = cv2.equalizeHist(img[:, :, 1])\n",
    "    img1[:, :, 2] = cv2.equalizeHist(img[:, :, 2])\n",
    "    \n",
    "    return img1\n",
    "\n",
    "def Histogram_Eq1(img):\n",
    "    img1 = img.copy()\n",
    "    clahe = cv2.createCLAHE(clipLimit=2.0, tileGridSize=(8,8))\n",
    "    img1[:, :, 0] = clahe.apply(img[:, :, 0])\n",
    "    img1[:, :, 1] = clahe.apply(img[:, :, 1])\n",
    "    img1[:, :, 2] = clahe.apply(img[:, :, 2])\n",
    "    \n",
    "    return img1\n",
    "\n",
    "def crop(img, mar = 3):\n",
    "    c_x, c_y, sh = int(img.shape[0]/2), int(img.shape[1]/2), int(image_size/2-mar)\n",
    "    return img[(c_x-sh):(c_x+sh),(c_y-sh):(c_y+sh)]\n",
    "\n",
    "def transform(img):\n",
    "    img1 = img.copy()\n",
    "    img1 = crop(img1)\n",
    "    img1 = sharp(img1)\n",
    "    #img1 = contrast(img1)\n",
    "    #img1 = shadow(img1)\n",
    "    img1 = perspective(img1)\n",
    "    img1 = translate(img1)\n",
    "    img1 = rotate(img1)\n",
    "    #img1 = shear(img1)\n",
    "    \n",
    "    return img1\n",
    "\n",
    "def display(img, img1):\n",
    "    plt.figure(figsize = (8,4))\n",
    "    plt.subplot(1, 2, 1)\n",
    "    plt.imshow(img)\n",
    "    plt.title(\"Original Image\")\n",
    "    plt.subplot(1, 2, 2)\n",
    "    plt.imshow(img1)\n",
    "    plt.title(\"Augmented Image\")\n",
    "    plt.show\n",
    "    \n",
    "\n"
   ]
  },
  {
   "cell_type": "code",
   "execution_count": 8,
   "metadata": {},
   "outputs": [
    {
     "name": "stdout",
     "output_type": "stream",
     "text": [
      "Image Shape:  (26, 26, 3)\n"
     ]
    },
    {
     "data": {
      "image/png": "[encoded data removed]",
      "text/plain": [
       "<matplotlib.figure.Figure at 0x7fd7b5730e80>"
      ]
     },
     "metadata": {},
     "output_type": "display_data"
    }
   ],
   "source": [
    "# Lets print the transform function output\n",
    "x_selected = X_train[y_train == 1]\n",
    "im=x_selected[20, :, :, :]\n",
    "display(im, transform(im))\n",
    "print(\"Image Shape: \", transform(im).shape)"
   ]
  },
  {
   "cell_type": "markdown",
   "metadata": {},
   "source": [
    "### *Q1. Describe the preprocessing techniques used and why these techniques were chosen.*\n",
    "*The above image shows that the original image has additional regions other than the traffic sign. So the image is cropped from 32x32x3 to 26x26x3 so that the focus is on the traffic sign. Moreover, it reduces the computation time by avoiding calculations on unwanted pixels.*\n",
    "\n",
    "*Larger the dataset better is the model predictions. So, to increase the size of the dataset, several random transformations are applied to each image to generate augmented images. Augmenting images, also, makes the model robust for particular cases. Geometric transformations such as **translation()** and **rotation()** are applied to capture shifts in the image space. An image of a traffic sign could be at any viewing angle. So, to capture this **perspective()** and **affine()** transformations are applied to the image. Additionally, the image could be occluded by a shadow; so, a random shadow is added to few images. Finally, an unsharp mask and contrast adjustment improves the image visualization. First, equal amount of additional images were generated for each image i.e. 10. However, this caused some features to have very high number of images and some to have very low number of training images which affected predictions in the test data as the model was more biased toward features with more images. For example, the previous model predicted the 80 speed limit sign as 50. So, later, equal amount of images were generated for each feature which increased the test data prediction from 95.1% to 97.8%.*\n",
    "\n",
    "*Furthermore, the Dataset is rescaled to -1.0 to 1.0 using the **minmax()** function described below and normalized for zero mean using the **normalize()** function. The image is not converted to color as color is an important factor in detecting traffic signs.*\n",
    "\n",
    "*The image above shows the Orignal Image and the Augmented Image*"
   ]
  },
  {
   "cell_type": "code",
   "execution_count": 9,
   "metadata": {},
   "outputs": [
    {
     "name": "stdout",
     "output_type": "stream",
     "text": [
      "Augmented Data size:  140000\n"
     ]
    }
   ],
   "source": [
    "# Transform the given training set\n",
    "\n",
    "X_train_aug = []\n",
    "y_train_aug = []\n",
    "\n",
    "def augment_data(n = 5):\n",
    "    for i in range(n_train):\n",
    "        img = X_train[i]\n",
    "        X_train_aug.append(crop(img))\n",
    "        y_train_aug.append(y_train[i])\n",
    "        for j in range(n):\n",
    "            X_train_aug.append(transform(img))\n",
    "            y_train_aug.append(y_train[i])\n",
    "    assert(len(X_train_aug) == len(y_train_aug))\n",
    "    print(\"Augmented Data size: \", len(X_train_aug))\n",
    "\n",
    "augment_data(3)"
   ]
  },
  {
   "cell_type": "code",
   "execution_count": 10,
   "metadata": {},
   "outputs": [
    {
     "name": "stdout",
     "output_type": "stream",
     "text": [
      "Augmented Validation Set:  15000\n"
     ]
    }
   ],
   "source": [
    "X_valid_aug = []\n",
    "y_valid_aug = []\n",
    "for i in range(n_valid):\n",
    "    img = X_valid[i]\n",
    "    X_valid_aug.append(crop(img))\n",
    "    y_valid_aug.append(y_valid[i])\n",
    "\n",
    "assert(len(X_valid_aug) == len(y_valid_aug))\n",
    "print(\"Augmented Validation Set: \", len(X_valid_aug))"
   ]
  },
  {
   "cell_type": "markdown",
   "metadata": {},
   "source": [
    "# Load hdf5 data\n",
    "def h5_load(path):\n",
    "    hdf5_path = path\n",
    "    with tables.open_file(hdf5_path, mode = 'r') as train_data:\n",
    "        X_train_aug = train_data.root.images[:]\n",
    "        X_train_aug = np.array(X_train_aug_2, dtype = np.float32)\n",
    "        train_data.close()\n"
   ]
  },
  {
   "cell_type": "markdown",
   "metadata": {},
   "source": [
    "X_train_aug = np.array(X_train_aug)\n",
    "y_train_aug = np.array(y_train_aug)\n",
    "hdf5(\"my_Augmented_Data.hdf5\", X_train_aug, y_train_aug)\n",
    "gc.collect()"
   ]
  },
  {
   "cell_type": "code",
   "execution_count": 11,
   "metadata": {},
   "outputs": [
    {
     "data": {
      "text/plain": [
       "<matplotlib.text.Text at 0x7fd757660b38>"
      ]
     },
     "execution_count": 11,
     "metadata": {},
     "output_type": "execute_result"
    },
    {
     "data": {
      "image/png": "[encoded data removed]",
      "text/plain": [
       "<matplotlib.figure.Figure at 0x7fd7574418d0>"
      ]
     },
     "metadata": {},
     "output_type": "display_data"
    }
   ],
   "source": [
    "# Visualize Augmented set\n",
    "unique, counts = np.unique(y_train_aug, return_counts = True)\n",
    "\n",
    "plt.figure(figsize = (12,6))\n",
    "plt.bar(unique, counts)\n",
    "plt.title(\"Augmented Training Set Distribution\")\n",
    "plt.xlabel(\"Feature\")\n",
    "plt.ylabel(\"Count\")\n"
   ]
  },
  {
   "cell_type": "markdown",
   "metadata": {},
   "source": [
    "### Pre-process the Data Set (normalization, grayscale, etc.)"
   ]
  },
  {
   "cell_type": "markdown",
   "metadata": {},
   "source": [
    "Minimally, the image data should be normalized so that the data has mean zero and equal variance. For image data, `(pixel - 128)/ 128` is a quick way to approximately normalize the data and can be used in this project. \n",
    "\n",
    "Other pre-processing steps are optional. You can try different techniques to see if it improves performance. \n",
    "\n",
    "Use the code cell (or multiple code cells, if necessary) to implement the first step of your project."
   ]
  },
  {
   "cell_type": "code",
   "execution_count": 12,
   "metadata": {
    "collapsed": true
   },
   "outputs": [],
   "source": [
    "### Preprocess the data here. It is required to normalize the data. Other preprocessing steps could include \n",
    "### converting to grayscale, etc.\n",
    "### Feel free to use as many code cells as needed.\n",
    "\n",
    "\n",
    "X_train_aug = np.around(np.array(X_train_aug, dtype = np.float32))\n",
    "X_valid_aug = np.around(np.array(X_valid_aug, dtype = np.float32))\n",
    "\n"
   ]
  },
  {
   "cell_type": "code",
   "execution_count": 13,
   "metadata": {
    "collapsed": true
   },
   "outputs": [],
   "source": [
    "# Lets apply min_max scaler to prevent any single feature from dominating the result    \n",
    "def minmax(img):\n",
    "    x = np.full(img.shape, 127.5, dtype = img.dtype)\n",
    "    return cv2.divide(cv2.add(img, -x), x)"
   ]
  },
  {
   "cell_type": "code",
   "execution_count": 14,
   "metadata": {
    "collapsed": true
   },
   "outputs": [],
   "source": [
    "for i, image in enumerate(X_train_aug):\n",
    "    X_train_aug[i] = minmax(image)\n",
    "X_train_aug = np.array(X_train_aug)\n",
    "\n",
    "for i, image in enumerate(X_valid_aug):\n",
    "    X_valid_aug[i] = minmax(image)\n",
    "X_valid_aug = np.array(X_valid_aug)"
   ]
  },
  {
   "cell_type": "code",
   "execution_count": 15,
   "metadata": {
    "collapsed": true
   },
   "outputs": [],
   "source": [
    "def normalize(img, mean, std):\n",
    "    muX = np.full(img.shape, mean, dtype = np.float32)   \n",
    "    sigmaX = np.full(img.shape, std, dtype = np.float32)\n",
    "    return cv2.divide(cv2.add(img, -muX), sigmaX)"
   ]
  },
  {
   "cell_type": "code",
   "execution_count": 16,
   "metadata": {
    "collapsed": true
   },
   "outputs": [],
   "source": [
    "mu1 = np.mean(X_train_aug)\n",
    "mu2 = np.mean(X_valid_aug)\n",
    "s1 = np.std(X_train_aug)\n",
    "s2 = np.std(X_valid_aug)\n",
    "\n",
    "for i, image in enumerate(X_train_aug):\n",
    "    X_train_aug[i] = normalize(image, mu1, s1)\n",
    "X_train_aug = np.array(X_train_aug)\n",
    "\n",
    "for i, image in enumerate(X_valid_aug):\n",
    "    X_valid_aug[i] = normalize(image, mu2, s2)\n",
    "X_valid_aug = np.array(X_valid_aug)"
   ]
  },
  {
   "cell_type": "markdown",
   "metadata": {},
   "source": [
    "s = X_train_aug[0:3000]\n",
    "for i, image in enumerate(s):\n",
    "    s[i] = minmax(image)\n",
    "s = np.array(s)\n",
    "print(s[1])\n",
    "print(np.amax(s))\n",
    "print(np.amin(s))"
   ]
  },
  {
   "cell_type": "code",
   "execution_count": 17,
   "metadata": {},
   "outputs": [
    {
     "name": "stdout",
     "output_type": "stream",
     "text": [
      "3.21619e-07\n",
      "-1.48582\n",
      "2.27494\n"
     ]
    }
   ],
   "source": [
    "gc.collect()\n",
    "image_shape_aug = X_train_aug[0].shape\n",
    "print(np.mean(X_train_aug))\n",
    "print(np.amin(X_train_aug))\n",
    "print(np.amax(X_train_aug))"
   ]
  },
  {
   "cell_type": "markdown",
   "metadata": {},
   "source": [
    "### Model Architecture"
   ]
  },
  {
   "cell_type": "markdown",
   "metadata": {},
   "source": [
    "### *Q2. Provide details of the characteristics and qualities of the architecture*\n",
    "*The model consists of 9 layers with 3 convolution layers, 2 maxpool layers, 2 inception layers and 2 fully connected layers. The inception layer performs 4 operations and concatenates the result: a 1x1 convolution, a 1x1 convolution followed by a 3x3 convolution, a 1x1 convolution followed by a 5x5 convolution and a maxpool followed by a 1x1 convolution.*"
   ]
  },
  {
   "cell_type": "markdown",
   "metadata": {},
   "source": [
    "|Layer                     |Input            |Output           |\n",
    "|:-------------------------|:----------------|:----------------|\n",
    "|1x1 Convolution with ReLU |26x26x3          |26x26x3          |\n",
    "|5x5 Convolution with ReLU |26x26x3          |26x26x32         |\n",
    "|Inception 1               |26x26x32         |26x26x256        |\n",
    "|2x2 MaxPool 1             |26x26x256        |13x13x256        |\n",
    "|Inception 2               |13x13x256        |13x13x512        |\n",
    "|3x3 MaxPool 2             |13x13x512        |6x6x512          |\n",
    "|1x1 Convolution Layer     |6x6x512          |6x6x256          |\n",
    "|Fully Connected Layer 1   |9216             |512              |\n",
    "|Output Layer              |512              |43               |"
   ]
  },
  {
   "cell_type": "code",
   "execution_count": 18,
   "metadata": {
    "collapsed": true
   },
   "outputs": [],
   "source": [
    "### Define your architecture here.\n",
    "### Feel free to use as many code cells as needed.\n",
    "\n",
    "import tensorflow as tf\n",
    "\n",
    "from tensorflow.contrib.layers import flatten\n",
    "\n",
    "# Define mean and standard deviation\n",
    "mu = 0\n",
    "sigma = 0.1\n",
    "\n",
    "# Define the convolution layer\n",
    "def conv2d(x, kernel_w, d_in, d_out):\n",
    "    wc = tf.Variable(tf.truncated_normal([kernel_w, kernel_w, d_in, d_out], mean = mu, stddev = sigma))\n",
    "    bc = tf.Variable(tf.truncated_normal([d_out], mean = mu, stddev = sigma))\n",
    "    x = tf.nn.conv2d(x, wc, strides = [1, 1, 1, 1], padding ='SAME')\n",
    "    x = tf.nn.bias_add(x, bc)\n",
    "    return x\n",
    "\n",
    "# Define an activation layer\n",
    "def active2d(x, kernel_w, d_in, d_out):\n",
    "    wc = tf.Variable(tf.truncated_normal([kernel_w, kernel_w, d_in, d_out], mean = mu, stddev = sigma))\n",
    "    bc = tf.Variable(tf.truncated_normal([d_out], mean = mu, stddev = sigma))\n",
    "    x = tf.nn.conv2d(x, wc, strides = [1, 1, 1, 1], padding ='SAME')\n",
    "    x = tf.nn.bias_add(x, bc)\n",
    "    return tf.nn.relu(x)\n",
    "\n",
    "# Define the Maxpool layer\n",
    "def maxpool2d(x, k = 3, s = 1, pad = 'SAME'):\n",
    "    return tf.nn.max_pool(x, ksize = [1, k, k, 1], strides = [1, s, s, 1], padding = pad)\n",
    "\n",
    "# Define a fully connected layer\n",
    "def fc2d(x, d_in, d_out):\n",
    "    wd = tf.Variable(tf.truncated_normal([d_in, d_out], mean = mu, stddev = sigma))\n",
    "    bd = tf.Variable(tf.truncated_normal([d_out], mean = mu, stddev = sigma))\n",
    "    x = tf.add(tf.matmul(x, wd), bd)\n",
    "    x = tf.nn.relu(x)\n",
    "    return tf.nn.dropout(x, keep_prob)\n",
    "\n",
    "# Create an inception module\n",
    "def inception(x, d_in, d_out):\n",
    "    d1 = math.floor(d_out/4)\n",
    "    d2 = math.floor(d_out/2)\n",
    "    \n",
    "    #Inception Module layer 1: 1x1 convolution\n",
    "    conv1x1a = conv2d(x, 1, d_in, d_out)\n",
    "    conv1x1a = tf.nn.dropout(conv1x1a, keep_prob)\n",
    "    \n",
    "    #Inception Module layer 2: 1x1 convolution -> 3x3 convolution -> 3x3 convolution\n",
    "    conv1x1_relu1 = active2d(x, 1, d_in, d1)\n",
    "    conv3x3 = conv2d(conv1x1_relu1, 3, d1, d2)\n",
    "    conv3x3 = conv2d(conv3x3, 1, d2, d_out)\n",
    "    conv3x3 = tf.nn.dropout(conv3x3, keep_prob)\n",
    "    \n",
    "    #Inception Module layer 3: 1x1 convolution -> 5x5 convolution -> 5x5 convolution\n",
    "    conv1x1_relu2 = active2d(x, 1, d_in, d1)\n",
    "    conv5x5 = conv2d(conv1x1_relu2, 5, d1, d2)\n",
    "    conv5x5 = conv2d(conv5x5, 1, d2, d_out)\n",
    "    conv5x5 = tf.nn.dropout(conv5x5, keep_prob)\n",
    "    \n",
    "    #Inception Module layer 4: Max Pooling -> 1x1 convolution -> 1x1 convolution\n",
    "    maxpool = maxpool2d(x, 3, 1)\n",
    "    convmax = conv2d(maxpool, 1, d_in, d2)\n",
    "    convmax = conv2d(convmax, 1, d2, d_out)\n",
    "    convmax = tf.nn.dropout(convmax, keep_prob)\n",
    "    \n",
    "    return tf.nn.relu(tf.concat([conv1x1a, conv3x3, conv5x5, convmax], 3))\n",
    "\n",
    "def TrafficNet(x, out = 10):\n",
    "\n",
    "    c1 = active2d(x, 1, 3, 3) #26x26x3\n",
    "    c2 = active2d(c1, 5, 3, 32) #26x26x32\n",
    "    inc1 = inception(c2, 32, 64) #26x26x256\n",
    "    \n",
    "    max1 = maxpool2d(inc1, 2, 2, pad = 'VALID') #13x13x256\n",
    "    inc2 = inception(max1, 256, 128) #13x13x512\n",
    "    \n",
    "    max2 = maxpool2d(inc2, 3, 2, pad = 'VALID') #6x6x512\n",
    "    c3 = conv2d(max2, 1, 512, 256) #6x6x256\n",
    "    print(c1.shape)\n",
    "    fc0 = flatten(c3)\n",
    "    \n",
    "    fc1 = fc2d(fc0, 256*6*6, 512) \n",
    "    \n",
    "    fc2_W  = tf.Variable(tf.truncated_normal([512, out], mean = mu, stddev = sigma))\n",
    "    fc2_b  = tf.Variable(tf.truncated_normal([out], mean = mu, stddev = sigma))\n",
    "    \n",
    "    logits = tf.add(tf.matmul(fc1, fc2_W), fc2_b)\n",
    "    \n",
    "    return logits"
   ]
  },
  {
   "cell_type": "markdown",
   "metadata": {},
   "source": [
    "### Train, Validate and Test the Model"
   ]
  },
  {
   "cell_type": "markdown",
   "metadata": {},
   "source": [
    "A validation set can be used to assess how well the model is performing. A low accuracy on the training and validation\n",
    "sets imply underfitting. A high accuracy on the training set but low accuracy on the validation set implies overfitting."
   ]
  },
  {
   "cell_type": "markdown",
   "metadata": {
    "collapsed": true
   },
   "source": [
    "## Features and Labels\n",
    "Train TrafficNet to classify traffic signs data.\n",
    "\n",
    "`x` is a placeholder for a batch of input images.\n",
    "`y` is a placeholder for a batch of output labels."
   ]
  },
  {
   "cell_type": "code",
   "execution_count": 19,
   "metadata": {
    "collapsed": true
   },
   "outputs": [],
   "source": [
    "t = np.array(image_shape_aug, dtype = np.int32)\n",
    "x = tf.placeholder(tf.float32, (None,t[0],t[1],t[2]))\n",
    "y = tf.placeholder(tf.int32, (None))\n",
    "keep_prob = tf.placeholder(tf.float32)\n",
    "one_hot_y = tf.one_hot(y, n_classes)"
   ]
  },
  {
   "cell_type": "markdown",
   "metadata": {},
   "source": [
    "## Training Pipeline\n",
    "Create a training pipeline that uses the model to classify traffic sign data."
   ]
  },
  {
   "cell_type": "code",
   "execution_count": 20,
   "metadata": {},
   "outputs": [
    {
     "name": "stdout",
     "output_type": "stream",
     "text": [
      "(?, 26, 26, 3)\n"
     ]
    }
   ],
   "source": [
    "# Define hyperparameters\n",
    "EPOCHS = 10\n",
    "BATCH_SIZE = 128\n",
    "l_rate = 0.0004\n",
    "\n",
    "# Define loss function and initialize the optimizer\n",
    "logits = TrafficNet(x)\n",
    "cross_entropy = tf.nn.softmax_cross_entropy_with_logits(labels = one_hot_y, logits = logits)\n",
    "loss_operation = tf.reduce_mean(cross_entropy)\n",
    "optimizer = tf.train.AdamOptimizer(learning_rate = l_rate)\n",
    "training_operation = optimizer.minimize(loss_operation)"
   ]
  },
  {
   "cell_type": "markdown",
   "metadata": {},
   "source": [
    "## Model Evaluation\n",
    "Evaluate how well the loss and accuracy of the model for a given dataset."
   ]
  },
  {
   "cell_type": "code",
   "execution_count": 21,
   "metadata": {
    "collapsed": true
   },
   "outputs": [],
   "source": [
    "# Define functions to calculate accuracy\n",
    "correct_prediction = tf.equal(tf.argmax(logits, 1), tf.argmax(one_hot_y, 1))\n",
    "accuracy_operation = tf.reduce_mean(tf.cast(correct_prediction, tf.float32))\n",
    "saver = tf.train.Saver()\n",
    "\n",
    "def evaluate(X_data, y_data):\n",
    "    num_examples = len(X_data)\n",
    "    total_accuracy = 0\n",
    "    sess = tf.get_default_session()\n",
    "    for offset in range(0, num_examples, BATCH_SIZE):\n",
    "        batch_x, batch_y = X_data[offset:offset+BATCH_SIZE], y_data[offset:offset+BATCH_SIZE]\n",
    "        accuracy = sess.run(accuracy_operation, feed_dict={x: batch_x, y: batch_y, keep_prob: 1})\n",
    "        total_accuracy += (accuracy * len(batch_x))\n",
    "    return total_accuracy / num_examples"
   ]
  },
  {
   "cell_type": "markdown",
   "metadata": {},
   "source": [
    "## Train the Model\n",
    "Run the training data through the training pipeline to train the model.\n",
    "\n",
    "Before each epoch, shuffle the training set.\n",
    "\n",
    "After each epoch, measure the loss and accuracy of the validation set.\n",
    "\n",
    "Save the model after training."
   ]
  },
  {
   "cell_type": "markdown",
   "metadata": {},
   "source": [
    "### *Q3. Describe how the model was trained*\n",
    "*The model was trained using the Adam Optimizer. An initial value of Epochs = 15, Batch Size = 150, DropOut = 0.5 and Learning rate = 0.005 were chosen. Keeping other hyper parameters constant, the number of epochs was decreased and model performance was evaluated based on Loss and Accuracy with respect to the validation set. A final number of epoch = 10 was chosen which gave a prediction accuracy in the range of 96-98.5% on the validation set.*\n",
    "\n",
    "*The model is finally tested on the test set that gave an accuracy of 97.8%.*\n",
    "\n",
    "*Both the validation and test set were cropped, scaled between -1.0 to 1.0 and normalized for zero mean to match the training set.*"
   ]
  },
  {
   "cell_type": "code",
   "execution_count": null,
   "metadata": {
    "collapsed": true
   },
   "outputs": [],
   "source": [
    "# Start the tensorflow session\n",
    "with tf.Session() as sess:\n",
    "    sess.run(tf.global_variables_initializer())\n",
    "    num_examples = len(X_train_aug)\n",
    "    \n",
    "    print(\"Training...\")\n",
    "    print()\n",
    "    # Train the model\n",
    "    for i in range(EPOCHS):\n",
    "        X_train_aug, y_train_aug = shuffle(X_train_aug, y_train_aug)\n",
    "        for offset in range(0, num_examples, BATCH_SIZE):\n",
    "            end = offset + BATCH_SIZE\n",
    "            batch_x, batch_y = X_train_aug[offset:end], y_train_aug[offset:end]\n",
    "            tr, loss = sess.run([training_operation, loss_operation], feed_dict={x: batch_x, y: batch_y, keep_prob: 0.5})\n",
    "            \n",
    "        # Validate model accuracy   \n",
    "        validation_accuracy = evaluate(X_valid_aug, y_valid_aug)\n",
    "        print(\"EPOCH {} ...\".format(i+1))\n",
    "        print(\"Loss = {:.6f}\".format(loss))\n",
    "        print(\"Validation Accuracy = {:.3f}\".format(validation_accuracy))\n",
    "        print()\n",
    "        \n",
    "    saver.save(sess, './Trafficnet.ckpt')\n",
    "    print(\"Model saved\")"
   ]
  },
  {
   "cell_type": "markdown",
   "metadata": {},
   "source": [
    "### *Q4. Describe the approach to finding a solution*\n",
    "*The solution was started with the LeNet architecture as a base with the best hyperparameters found to be epoch = 15, learning rate = 0.0005 and batch_size = 150. However, the architecture with 3 convolution, 2 max pool and 2 fully connected layers. However, the network couldn't detect enough attributes and had a low accuracy: 86% to 89% on the validation set. The architecture was improved based on the GoogLeNet architecture. 2 inception modules were added to the model to improve accuracy. The lower inception module gave a sampling of low level features where as the higher inception module detected high level features. The batch size and the learning rate were kept constant but the no. of epochs were reduced to 10. The improved architecture gave an accuracy between 96% to 98.5%. In order to remove any bias toward any features, equal number of images were generated for each feature.*"
   ]
  },
  {
   "cell_type": "code",
   "execution_count": null,
   "metadata": {
    "collapsed": true
   },
   "outputs": [],
   "source": [
    "# Prepare test images\n",
    "X_test_aug = []\n",
    "y_test_aug = []\n",
    "for i, image in enumerate(X_test):\n",
    "    X_test_aug.append(crop(image))\n",
    "    y_test_aug.append(y_test[i])\n",
    "    \n",
    "assert(len(X_test_aug) == len(y_test_aug))\n",
    "print(\"Test Set Augmented\")"
   ]
  },
  {
   "cell_type": "code",
   "execution_count": null,
   "metadata": {
    "collapsed": true
   },
   "outputs": [],
   "source": [
    "# Apply minmax to test set\n",
    "X_test_aug = np.around(np.array(X_test_aug, dtype = np.float32))\n",
    "for i, image in enumerate(X_test_aug):\n",
    "    X_test_aug[i] = minmax(image)\n",
    "X_test_aug = np.array(X_test_aug)"
   ]
  },
  {
   "cell_type": "code",
   "execution_count": null,
   "metadata": {
    "collapsed": true
   },
   "outputs": [],
   "source": [
    "# Normalize the test images\n",
    "mu_test = np.mean(X_test_aug)\n",
    "s_test = np.std(X_test_aug)\n",
    "for i, image in enumerate(X_test_aug):\n",
    "    X_test_aug[i] = normalize(image, mu_test, s_test)\n",
    "X_test_aug = np.array(X_test_aug)"
   ]
  },
  {
   "cell_type": "code",
   "execution_count": null,
   "metadata": {
    "collapsed": true
   },
   "outputs": [],
   "source": [
    "# Calculate Model Accuracy on test images\n",
    "with tf.Session() as sess:\n",
    "    saver.restore(sess, './Trafficnet.ckpt')\n",
    "    test_accuracy = evaluate(X_test_aug, y_test_aug)\n",
    "    print(\"Test Accuracy = {:.3f}\".format(test_accuracy))"
   ]
  },
  {
   "cell_type": "markdown",
   "metadata": {},
   "source": [
    "---\n",
    "\n",
    "## Step 3: Test a Model on New Images\n",
    "\n",
    "To give yourself more insight into how your model is working, download at least five pictures of German traffic signs from the web and use your model to predict the traffic sign type.\n",
    "\n",
    "You may find `signnames.csv` useful as it contains mappings from the class id (integer) to the actual sign name."
   ]
  },
  {
   "cell_type": "markdown",
   "metadata": {},
   "source": [
    "### *Q5. Discuss particular qualities of the images or traffic signs in the image downloaded from the web*\n",
    "*The traffic sign images from the web were chosen based on the number of images for the particular traffic sign available in the original training set. The features with low number of training images were downloaded such as roundabout mandatory, no vehicles, end of all speed and passing limits etc. Few commonly encountered signs such as Stop, Yield, speed limits etc. were also used to the model. Apart from these, two signs: roundabout mandatory, roadwork ahead; from a different country were added to test if the model recognises the common attributes and ignores the uncommon ones.*"
   ]
  },
  {
   "cell_type": "code",
   "execution_count": null,
   "metadata": {
    "collapsed": true
   },
   "outputs": [],
   "source": [
    "# Import the sign names from the CSV file\n",
    "signs = []\n",
    "\n",
    "with open('signnames.csv', 'rt') as sign_names:\n",
    "    signs_n = csv.DictReader(sign_names, delimiter=',')\n",
    "    for i in signs_n:\n",
    "        signs.append((i['SignName']))"
   ]
  },
  {
   "cell_type": "markdown",
   "metadata": {},
   "source": [
    "### Load and Output the Images"
   ]
  },
  {
   "cell_type": "code",
   "execution_count": null,
   "metadata": {
    "collapsed": true
   },
   "outputs": [],
   "source": [
    "### Load the images and plot them here.\n",
    "### Feel free to use as many code cells as needed.\n",
    "online_image_path = [image_path for image_path in glob.glob(\"./Online_Images_2/*\")]\n",
    "X_online = np.uint8(np.zeros((15,32,32,3)))\n",
    "\n",
    "for i, path in enumerate(online_image_path):\n",
    "    image = cv2.imread(path, cv2.IMREAD_COLOR)\n",
    "    image = cv2.resize(image, (32,32), interpolation = cv2.INTER_CUBIC)\n",
    "    b,g,r = cv2.split(image)\n",
    "    image = cv2.merge([r,g,b])\n",
    "    X_online[i] = image\n",
    "plt.figure(figsize = (9, 15))\n",
    "# Plot images\n",
    "for i in range(15):\n",
    "    plt.subplot(5,3,i+1)\n",
    "    plt.imshow(X_online[i]) \n",
    "    plt.title(i)\n",
    "    plt.axis('off')\n",
    "plt.show()\n",
    "    "
   ]
  },
  {
   "cell_type": "markdown",
   "metadata": {},
   "source": [
    "### Predict the Sign Type for Each Image"
   ]
  },
  {
   "cell_type": "code",
   "execution_count": null,
   "metadata": {
    "collapsed": true
   },
   "outputs": [],
   "source": [
    "### Run the predictions here and use the model to output the prediction for each image.\n",
    "### Make sure to pre-process the images with the same pre-processing pipeline used earlier.\n",
    "### Feel free to use as many code cells as needed.\n",
    "def prediction(X, sess):\n",
    "    predict = sess.run(tf.argmax(logits, 1), feed_dict = {x: X, keep_prob: 1.0})\n",
    "    return predict\n",
    "\n",
    "X_online_aug = []\n",
    "for i, img in enumerate(X_online):\n",
    "    X_online_aug.append(crop(img))\n",
    "\n",
    "X_online_aug = np.around(np.array(X_online_aug, dtype = np.float32))\n",
    "\n",
    "for i, img in enumerate(X_online_aug):\n",
    "    X_online_aug[i] = minmax(img)\n",
    "X_online_aug = np.array(X_online_aug)\n",
    "\n",
    "for i, img in enumerate (X_online_aug):\n",
    "    mu3 = np.mean(X_online_aug)\n",
    "    s3 = np.std(X_online_aug)\n",
    "    X_online_aug = normalize(X_online_aug, mu3, s3)\n",
    "X_online_aug = np.array(X_online_aug)\n",
    "\n",
    "print(np.min(X_online_aug))\n",
    "print(np.max(X_online_aug))\n",
    "print(np.mean(X_online_aug))\n"
   ]
  },
  {
   "cell_type": "code",
   "execution_count": null,
   "metadata": {
    "collapsed": true
   },
   "outputs": [],
   "source": [
    "with tf.Session() as sess:\n",
    "    saver.restore(sess, './Trafficnet.ckpt')\n",
    "    image_predictions = prediction(X_online_aug, sess)"
   ]
  },
  {
   "cell_type": "code",
   "execution_count": null,
   "metadata": {
    "collapsed": true
   },
   "outputs": [],
   "source": [
    "plt.figure(figsize = (12, 20))\n",
    "for i in range(15):\n",
    "    plt.subplot(5, 3, i+1)\n",
    "    plt.imshow(X_online[i]) \n",
    "    plt.title(signs[image_predictions[i]])\n",
    "    plt.axis('off')\n",
    "plt.show()\n",
    "print(image_predictions)"
   ]
  },
  {
   "cell_type": "markdown",
   "metadata": {},
   "source": [
    "### Analyze Performance"
   ]
  },
  {
   "cell_type": "code",
   "execution_count": null,
   "metadata": {
    "collapsed": true
   },
   "outputs": [],
   "source": [
    "### Calculate the accuracy for these 5 new images. \n",
    "### For example, if the model predicted 1 out of 5 signs correctly, it's 20% accurate on these new images.\n",
    "y_online = np.array([23, 40, 15, 11, 9, 25, 14, 33, 13, 37, 40, 25, 1, 5, 32])\n",
    "n_online = len(image_predictions)\n",
    "true_predictions = np.equal(image_predictions, y_online)\n",
    "tp_online = np.count_nonzero(true_predictions)\n",
    "accuracy_ol = tp_online / n_online * 100\n",
    "print(\"Accuracy = {} %\".format(accuracy_ol))"
   ]
  },
  {
   "cell_type": "markdown",
   "metadata": {},
   "source": [
    "### *Q6. Discuss the performance of the model on the new images.*\n",
    "*The model performed quite well on the new images. It was able to recognize all the german traffic signs. However, the model coundn't guess any of the two foreign traffic signs. The reason being that the model couldn't generalize to specific attributes of each feature. So, the model is well-fitted to similar data i.e. german traffic signs but over-fitted to partially matching data i.e. foreign signs. The model had a total accuracy of 86.67% on the web images: 100% accuracy on german traffic signs but 0% on similar foreign traffic signs*"
   ]
  },
  {
   "cell_type": "markdown",
   "metadata": {},
   "source": [
    "### Output Top 5 Softmax Probabilities For Each Image Found on the Web"
   ]
  },
  {
   "cell_type": "markdown",
   "metadata": {},
   "source": [
    "For each of the new images, print out the model's softmax probabilities to show the **certainty** of the model's predictions (limit the output to the top 5 probabilities for each image). [`tf.nn.top_k`](https://www.tensorflow.org/versions/r0.12/api_docs/python/nn.html#top_k) could prove helpful here. \n",
    "\n",
    "The example below demonstrates how tf.nn.top_k can be used to find the top k predictions for each image.\n",
    "\n",
    "`tf.nn.top_k` will return the values and indices (class ids) of the top k predictions. So if k=3, for each sign, it'll return the 3 largest probabilities (out of a possible 43) and the correspoding class ids.\n",
    "\n",
    "Take this numpy array as an example. The values in the array represent predictions. The array contains softmax probabilities for five candidate images with six possible classes. `tk.nn.top_k` is used to choose the three classes with the highest probability:\n",
    "\n",
    "```\n",
    "# (5, 6) array\n",
    "a = np.array([[ 0.24879643,  0.07032244,  0.12641572,  0.34763842,  0.07893497,\n",
    "         0.12789202],\n",
    "       [ 0.28086119,  0.27569815,  0.08594638,  0.0178669 ,  0.18063401,\n",
    "         0.15899337],\n",
    "       [ 0.26076848,  0.23664738,  0.08020603,  0.07001922,  0.1134371 ,\n",
    "         0.23892179],\n",
    "       [ 0.11943333,  0.29198961,  0.02605103,  0.26234032,  0.1351348 ,\n",
    "         0.16505091],\n",
    "       [ 0.09561176,  0.34396535,  0.0643941 ,  0.16240774,  0.24206137,\n",
    "         0.09155967]])\n",
    "```\n",
    "\n",
    "Running it through `sess.run(tf.nn.top_k(tf.constant(a), k=3))` produces:\n",
    "\n",
    "```\n",
    "TopKV2(values=array([[ 0.34763842,  0.24879643,  0.12789202],\n",
    "       [ 0.28086119,  0.27569815,  0.18063401],\n",
    "       [ 0.26076848,  0.23892179,  0.23664738],\n",
    "       [ 0.29198961,  0.26234032,  0.16505091],\n",
    "       [ 0.34396535,  0.24206137,  0.16240774]]), indices=array([[3, 0, 5],\n",
    "       [0, 1, 4],\n",
    "       [0, 5, 1],\n",
    "       [1, 3, 5],\n",
    "       [1, 4, 3]], dtype=int32))\n",
    "```\n",
    "\n",
    "Looking just at the first row we get `[ 0.34763842,  0.24879643,  0.12789202]`, you can confirm these are the 3 largest probabilities in `a`. You'll also notice `[3, 0, 5]` are the corresponding indices."
   ]
  },
  {
   "cell_type": "code",
   "execution_count": null,
   "metadata": {
    "collapsed": true
   },
   "outputs": [],
   "source": [
    "### Print out the top five softmax probabilities for the predictions on the German traffic sign images found on the web. \n",
    "### Feel free to use as many code cells as needed.\n",
    "def softmax_predict(X, sess):\n",
    "    soft = sess.run(tf.nn.softmax(logits), feed_dict = {x: X, keep_prob: 1.0})\n",
    "    top5 = tf.nn.top_k(soft, k = 5)\n",
    "    return sess.run(top5)\n",
    "\n",
    "with tf.Session() as sess:\n",
    "    saver.restore(sess, './Trafficnet.ckpt')\n",
    "    top5_predictions = softmax_predict(X_online_aug, sess)"
   ]
  },
  {
   "cell_type": "markdown",
   "metadata": {},
   "source": [
    "### *Q7. Discuss how certain or uncertain the model is of its predictions.*\n",
    "*The model is quite certain about most german traffic sign images with the probability of the correct prediction being considerably higher in the top 5 softmax values. However, the model couldn't recognize the foreign traffic signs. This is because color is a major part of the prediction. So, the different coloured signs couldn't be recognised by the model. Apart from this, the model quite roughly predicts the 80 km/h sign. As discussed earlier, a previous model was unable to predict the 80 km/h sign and predicted it as 50 km/h due to small number of training images for 80 km/h. Even though, this model predicts the sign correctly, it is not certain about its predictions. Other speed limits also have a significant probability in the prediction. This may be due to the fact that the 80 km/h sign has several attributes common with the 50 km/h & 30 km/h sign, it looks like a distorted 120 km/h, 100 km/h sign and the training set has several corrupted, distorted images. A deeper neural network is required to separate the small differences between these speed limit signs.* "
   ]
  },
  {
   "cell_type": "code",
   "execution_count": null,
   "metadata": {
    "collapsed": true
   },
   "outputs": [],
   "source": [
    "plt.figure(figsize = (18, 30))\n",
    "for i in range(15):\n",
    "    plt.subplot(15, 2, 2*i+1)\n",
    "    plt.imshow(X_online[i])\n",
    "    plt.title(i)\n",
    "    plt.axis('off')\n",
    "    plt.subplot(15, 2, 2*i+2)\n",
    "    plt.barh(np.arange(1, 6, 1), top5_predictions.values[i, :])\n",
    "    top5_signs = [signs[j] for j in top5_predictions.indices[i]]\n",
    "    plt.yticks(np.arange(1, 6, 1), top5_signs)\n",
    "plt.show()"
   ]
  },
  {
   "cell_type": "markdown",
   "metadata": {},
   "source": [
    "### Project Writeup\n",
    "\n",
    "Once you have completed the code implementation, document your results in a project writeup using this [template](https://github.com/udacity/CarND-Traffic-Sign-Classifier-Project/blob/master/writeup_template.md) as a guide. The writeup can be in a markdown or pdf file. "
   ]
  },
  {
   "cell_type": "markdown",
   "metadata": {},
   "source": [
    "> **Note**: Once you have completed all of the code implementations and successfully answered each question above, you may finalize your work by exporting the iPython Notebook as an HTML document. You can do this by using the menu above and navigating to  \\n\",\n",
    "    \"**File -> Download as -> HTML (.html)**. Include the finished document along with this notebook as your submission."
   ]
  },
  {
   "cell_type": "markdown",
   "metadata": {},
   "source": [
    "---\n",
    "\n",
    "## Step 4 (Optional): Visualize the Neural Network's State with Test Images\n",
    "\n",
    " This Section is not required to complete but acts as an additional excersise for understaning the output of a neural network's weights. While neural networks can be a great learning device they are often referred to as a black box. We can understand what the weights of a neural network look like better by plotting their feature maps. After successfully training your neural network you can see what it's feature maps look like by plotting the output of the network's weight layers in response to a test stimuli image. From these plotted feature maps, it's possible to see what characteristics of an image the network finds interesting. For a sign, maybe the inner network feature maps react with high activation to the sign's boundary outline or to the contrast in the sign's painted symbol.\n",
    "\n",
    " Provided for you below is the function code that allows you to get the visualization output of any tensorflow weight layer you want. The inputs to the function should be a stimuli image, one used during training or a new one you provided, and then the tensorflow variable name that represents the layer's state during the training process, for instance if you wanted to see what the [LeNet lab's](https://classroom.udacity.com/nanodegrees/nd013/parts/fbf77062-5703-404e-b60c-95b78b2f3f9e/modules/6df7ae49-c61c-4bb2-a23e-6527e69209ec/lessons/601ae704-1035-4287-8b11-e2c2716217ad/concepts/d4aca031-508f-4e0b-b493-e7b706120f81) feature maps looked like for it's second convolutional layer you could enter conv2 as the tf_activation variable.\n",
    "\n",
    "For an example of what feature map outputs look like, check out NVIDIA's results in their paper [End-to-End Deep Learning for Self-Driving Cars](https://devblogs.nvidia.com/parallelforall/deep-learning-self-driving-cars/) in the section Visualization of internal CNN State. NVIDIA was able to show that their network's inner weights had high activations to road boundary lines by comparing feature maps from an image with a clear path to one without. Try experimenting with a similar test to show that your trained network's weights are looking for interesting features, whether it's looking at differences in feature maps from images with or without a sign, or even what feature maps look like in a trained network vs a completely untrained one on the same sign image.\n",
    "\n",
    "<figure>\n",
    " <img src=\"visualize_cnn.png\" width=\"380\" alt=\"Combined Image\" />\n",
    " <figcaption>\n",
    " <p></p> \n",
    " <p style=\"text-align: center;\"> Your output should look something like this (above)</p> \n",
    " </figcaption>\n",
    "</figure>\n",
    " <p></p> \n"
   ]
  },
  {
   "cell_type": "markdown",
   "metadata": {},
   "source": [
    "## *Couldn't visualize the weights as the function below is having trouble accessing the weights within the model functions*"
   ]
  },
  {
   "cell_type": "code",
   "execution_count": null,
   "metadata": {
    "collapsed": true
   },
   "outputs": [],
   "source": [
    "### Visualize your network's feature maps here.\n",
    "### Feel free to use as many code cells as needed.\n",
    "# image_input: the test image being fed into the network to produce the feature maps\n",
    "# tf_activation: should be a tf variable name used during your training procedure that represents the calculated state of a specific weight layer\n",
    "# activation_min/max: can be used to view the activation contrast in more detail, by default matplot sets min and max to the actual min and max values of the output\n",
    "# plt_num: used to plot out multiple different weight feature map sets on the same block, just extend the plt number for each new feature map entry\n",
    "\n",
    "def outputFeatureMap(image_input, tf_activation, activation_min=-1, activation_max=-1 ,plt_num=1):\n",
    "    # Here make sure to preprocess your image_input in a way your network expects\n",
    "    # with size, normalization, ect if needed\n",
    "    # image_input =\n",
    "    # Note: x should be the same name as your network's tensorflow data placeholder variable\n",
    "    # If you get an error tf_activation is not defined it may be having trouble accessing the variable from inside a function\n",
    "    activation = tf_activation.eval(session=sess,feed_dict={x : image_input})\n",
    "    featuremaps = activation.shape[3]\n",
    "    plt.figure(plt_num, figsize=(15,15))\n",
    "    for featuremap in range(featuremaps):\n",
    "        plt.subplot(6,8, featuremap+1) # sets the number of feature maps to show on each row and column\n",
    "        plt.title('FeatureMap ' + str(featuremap)) # displays the feature map number\n",
    "        if activation_min != -1 & activation_max != -1:\n",
    "            plt.imshow(activation[0,:,:, featuremap], interpolation=\"nearest\", vmin =activation_min, vmax=activation_max, cmap=\"gray\")\n",
    "        elif activation_max != -1:\n",
    "            plt.imshow(activation[0,:,:, featuremap], interpolation=\"nearest\", vmax=activation_max, cmap=\"gray\")\n",
    "        elif activation_min !=-1:\n",
    "            plt.imshow(activation[0,:,:, featuremap], interpolation=\"nearest\", vmin=activation_min, cmap=\"gray\")\n",
    "        else:\n",
    "            plt.imshow(activation[0,:,:, featuremap], interpolation=\"nearest\", cmap=\"gray\")"
   ]
  },
  {
   "cell_type": "code",
   "execution_count": null,
   "metadata": {
    "collapsed": true
   },
   "outputs": [],
   "source": []
  }
 ],
 "metadata": {
  "anaconda-cloud": {},
  "kernelspec": {
   "display_name": "Python 3",
   "language": "python",
   "name": "python3"
  },
  "language_info": {
   "codemirror_mode": {
    "name": "ipython",
    "version": 3
   },
   "file_extension": ".py",
   "mimetype": "text/x-python",
   "name": "python",
   "nbconvert_exporter": "python",
   "pygments_lexer": "ipython3",
   "version": "3.5.2"
  },
  "widgets": {
   "state": {},
   "version": "1.1.2"
  }
 },
 "nbformat": 4,
 "nbformat_minor": 1
}
